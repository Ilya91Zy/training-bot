{
 "cells": [
  {
   "cell_type": "code",
   "execution_count": 2,
   "id": "c676e673",
   "metadata": {},
   "outputs": [
    {
     "name": "stdout",
     "output_type": "stream",
     "text": [
      "Это мой первый бот. Помоги ему начать общаться)\n",
      "Попреветствуй его:\n",
      "*Для завершения тестирования бота введите \"exit\"\n",
      "1\n",
      "Я не знаю такого слова(\n",
      "Попробуй другое слово, пожалуйста!\n",
      "привет\n",
      "Гуден так)\n",
      "как дела\n",
      "Я не знаю такого слова(\n",
      "Попробуй другое слово, пожалуйста!\n",
      "как дела?\n",
      "Хорошо\n",
      "Что делаешь?\n",
      "Учусь общаться с пользователем\n",
      "Получается?\n",
      "Я не знаю такого слова(\n",
      "Попробуй другое слово, пожалуйста!\n",
      "Как настроение?\n",
      "Отличное! Как сыр в масле катаюсь\n",
      "Exit\n",
      "Спасибо за тестирование бота!\n"
     ]
    }
   ],
   "source": [
    "import random\n",
    "\n",
    "def answer_bot(my_str,bot_answer_hello,bot_answer_end,question_user):\n",
    "    if my_str in str_hello:\n",
    "        answer_bot = random.choice(bot_answer_hello)\n",
    "        return print(answer_bot)\n",
    "    elif my_str in str_end:\n",
    "        answer_bot_end = random.choice(bot_answer_end)\n",
    "        return print(answer_bot_end)\n",
    "    elif my_str in question_user:\n",
    "        chat_bot(my_str)\n",
    "    else:\n",
    "        return print(\"Я не знаю такого слова(\\nПопробуй другое слово, пожалуйста!\")\n",
    "\n",
    "def chat_bot(my_str):\n",
    "    match my_str:\n",
    "        case 'как дела?': return print ('Хорошо')\n",
    "        case 'чем занимаешься?': return print('Обучаюсь')\n",
    "        case 'как настроение?': return print ('Отличное! Как сыр в масле катаюсь')\n",
    "        case 'чем будешь заниматься?': return print('Обучаться программированию на Python')\n",
    "        case 'что делаешь?': return print('Учусь общаться с пользователем')\n",
    "\n",
    "str_hello = ['привет','хай','привет, бот!','приветик!','приветики-пистолетики!','здравствуйте!','hello','добрый день','добрый день,бот','привет!']\n",
    "bot_answer_hello = ['hello!','Привет!','Превет-привет!','Добрый день','Здравствуйте','Михау','Гуден так)','Привет! Мня зовут БОТ. Я начинаю учться!']\n",
    "str_end = ['пока','до встречи','goodbuy','buy','хорошего дня','всего хорошего','до свидания']\n",
    "bot_answer_end = ['Пока','До свидания','Goodbuy','Пока-пока!', 'До встречи!', 'Спасибо за внимание!']\n",
    "question_user = ['как дела?','чем занимаешься?','как настроение?','что делаешь?','чем будешь заниматься?']\n",
    "print('Это мой первый бот. Помоги ему начать общаться)\\nПопреветствуй его:\\n*Для завершения тестирования бота введите \"exit\"')\n",
    "\n",
    "while True:\n",
    "    my_str = input().lower()\n",
    "    if my_str == 'exit':\n",
    "        print('Спасибо за тестирование бота!')\n",
    "        break\n",
    "    answer_bot(my_str,bot_answer_hello,bot_answer_end,question_user)"
   ]
  },
  {
   "cell_type": "code",
   "execution_count": null,
   "id": "fdc63265",
   "metadata": {},
   "outputs": [],
   "source": []
  },
  {
   "cell_type": "code",
   "execution_count": null,
   "id": "7594c7a9",
   "metadata": {},
   "outputs": [],
   "source": []
  }
 ],
 "metadata": {
  "kernelspec": {
   "display_name": "Python 3 (ipykernel)",
   "language": "python",
   "name": "python3"
  },
  "language_info": {
   "codemirror_mode": {
    "name": "ipython",
    "version": 3
   },
   "file_extension": ".py",
   "mimetype": "text/x-python",
   "name": "python",
   "nbconvert_exporter": "python",
   "pygments_lexer": "ipython3",
   "version": "3.11.5"
  }
 },
 "nbformat": 4,
 "nbformat_minor": 5
}
